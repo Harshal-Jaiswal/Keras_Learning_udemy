{
 "cells": [
  {
   "cell_type": "code",
   "execution_count": 47,
   "metadata": {},
   "outputs": [],
   "source": [
    "from __future__ import print_function  \n",
    "# for Python2 compatibility "
   ]
  },
  {
   "cell_type": "code",
   "execution_count": 48,
   "metadata": {},
   "outputs": [],
   "source": [
    "import numpy \n",
    "numpy.random.seed(1337)   # for experiment reproducibility "
   ]
  },
  {
   "cell_type": "code",
   "execution_count": 49,
   "metadata": {},
   "outputs": [],
   "source": [
    "import keras\n",
    "from keras.models import Sequential\n",
    "from keras.layers import Dense \n",
    "from keras.optimizers import SGD \n",
    "from keras.datasets import mnist"
   ]
  },
  {
   "cell_type": "code",
   "execution_count": 50,
   "metadata": {},
   "outputs": [],
   "source": [
    "num_classes = 10\n",
    "\n",
    "batch_size = 128     \n",
    "epochs = 30"
   ]
  },
  {
   "cell_type": "code",
   "execution_count": 51,
   "metadata": {},
   "outputs": [],
   "source": [
    "# the data, shuffled and split between train and test sets\n",
    "(x_train, y_train), (x_test, y_test) = mnist.load_data()"
   ]
  },
  {
   "cell_type": "code",
   "execution_count": 52,
   "metadata": {},
   "outputs": [
    {
     "name": "stdout",
     "output_type": "stream",
     "text": [
      "(60000, 28, 28) (60000,) (10000, 28, 28) (10000,)\n"
     ]
    }
   ],
   "source": [
    "print(x_train.shape, y_train.shape, x_test.shape, y_test.shape)"
   ]
  },
  {
   "cell_type": "code",
   "execution_count": 53,
   "metadata": {},
   "outputs": [
    {
     "name": "stdout",
     "output_type": "stream",
     "text": [
      "60000 train samples\n",
      "10000 test samples\n"
     ]
    }
   ],
   "source": [
    "x_train = x_train.reshape(60000, 784)  # 28x28 = 784\n",
    "x_test = x_test.reshape(10000, 784)\n",
    "\n",
    "x_train = x_train.astype('float32') \n",
    "x_test = x_test.astype('float32') \n",
    "\n",
    "x_train /= 255  # 0 - 255 ...  0-1 \n",
    "x_test /= 255   # normalizing your data \n",
    "\n",
    "\n",
    "print(x_train.shape[0], 'train samples')\n",
    "print(x_test.shape[0], 'test samples')"
   ]
  },
  {
   "cell_type": "code",
   "execution_count": 54,
   "metadata": {},
   "outputs": [
    {
     "name": "stdout",
     "output_type": "stream",
     "text": [
      "(60000, 784)\n",
      "(60000,)\n"
     ]
    }
   ],
   "source": [
    "print(x_train.shape)\n",
    "print(y_train.shape)"
   ]
  },
  {
   "cell_type": "code",
   "execution_count": 55,
   "metadata": {},
   "outputs": [
    {
     "data": {
      "text/plain": [
       "5"
      ]
     },
     "execution_count": 55,
     "metadata": {},
     "output_type": "execute_result"
    }
   ],
   "source": [
    "y_train[0]"
   ]
  },
  {
   "cell_type": "code",
   "execution_count": 56,
   "metadata": {},
   "outputs": [],
   "source": [
    "# convert class vectors to binary class matrices\n",
    "y_train = keras.utils.to_categorical(y_train, num_classes)\n",
    "y_test = keras.utils.to_categorical(y_test, num_classes)"
   ]
  },
  {
   "cell_type": "code",
   "execution_count": 57,
   "metadata": {},
   "outputs": [
    {
     "data": {
      "text/plain": [
       "array([0., 0., 0., 0., 0., 1., 0., 0., 0., 0.], dtype=float32)"
      ]
     },
     "execution_count": 57,
     "metadata": {},
     "output_type": "execute_result"
    }
   ],
   "source": [
    "y_train[0]"
   ]
  },
  {
   "cell_type": "markdown",
   "metadata": {},
   "source": [
    "That's called a one-hot vector. "
   ]
  },
  {
   "cell_type": "code",
   "execution_count": 58,
   "metadata": {},
   "outputs": [],
   "source": [
    "model = Sequential()"
   ]
  },
  {
   "cell_type": "code",
   "execution_count": 59,
   "metadata": {},
   "outputs": [],
   "source": [
    "model.add( Dense(512, activation='sigmoid', input_shape=(784,)  ) )\n",
    "model.add( Dense(512, activation='sigmoid'  ) )\n",
    "model.add( Dense(512, activation='sigmoid'  ) )\n",
    "model.add( Dense(num_classes, activation='softmax'))"
   ]
  },
  {
   "cell_type": "code",
   "execution_count": 60,
   "metadata": {},
   "outputs": [
    {
     "name": "stdout",
     "output_type": "stream",
     "text": [
      "Model: \"sequential_4\"\n",
      "_________________________________________________________________\n",
      "Layer (type)                 Output Shape              Param #   \n",
      "=================================================================\n",
      "dense_10 (Dense)             (None, 512)               401920    \n",
      "_________________________________________________________________\n",
      "dense_11 (Dense)             (None, 512)               262656    \n",
      "_________________________________________________________________\n",
      "dense_12 (Dense)             (None, 512)               262656    \n",
      "_________________________________________________________________\n",
      "dense_13 (Dense)             (None, 10)                5130      \n",
      "=================================================================\n",
      "Total params: 932,362\n",
      "Trainable params: 932,362\n",
      "Non-trainable params: 0\n",
      "_________________________________________________________________\n"
     ]
    }
   ],
   "source": [
    "# What does the model look like? \n",
    "model.summary()"
   ]
  },
  {
   "cell_type": "code",
   "execution_count": 61,
   "metadata": {},
   "outputs": [],
   "source": [
    "# Compile the model \n",
    "model.compile(loss='categorical_crossentropy', optimizer=SGD(), \n",
    "              metrics=['accuracy'])"
   ]
  },
  {
   "cell_type": "code",
   "execution_count": 62,
   "metadata": {},
   "outputs": [
    {
     "name": "stdout",
     "output_type": "stream",
     "text": [
      "Train on 60000 samples, validate on 10000 samples\n",
      "Epoch 1/30\n",
      "60000/60000 [==============================] - 11s 179us/step - loss: 2.3013 - acc: 0.1107 - val_loss: 2.2970 - val_acc: 0.1135\n",
      "Epoch 2/30\n",
      "60000/60000 [==============================] - 10s 169us/step - loss: 2.2958 - acc: 0.1234 - val_loss: 2.2904 - val_acc: 0.1333\n",
      "Epoch 3/30\n",
      "60000/60000 [==============================] - 10s 168us/step - loss: 2.2898 - acc: 0.1374 - val_loss: 2.2860 - val_acc: 0.1296\n",
      "Epoch 4/30\n",
      "60000/60000 [==============================] - 10s 169us/step - loss: 2.2827 - acc: 0.1586 - val_loss: 2.2799 - val_acc: 0.2245\n",
      "Epoch 5/30\n",
      "60000/60000 [==============================] - 10s 171us/step - loss: 2.2749 - acc: 0.1772 - val_loss: 2.2701 - val_acc: 0.1158\n",
      "Epoch 6/30\n",
      "60000/60000 [==============================] - 10s 173us/step - loss: 2.2652 - acc: 0.1985 - val_loss: 2.2581 - val_acc: 0.2524\n",
      "Epoch 7/30\n",
      "60000/60000 [==============================] - 10s 172us/step - loss: 2.2534 - acc: 0.2439 - val_loss: 2.2438 - val_acc: 0.2415\n",
      "Epoch 8/30\n",
      "60000/60000 [==============================] - 10s 168us/step - loss: 2.2371 - acc: 0.2826 - val_loss: 2.2236 - val_acc: 0.4140\n",
      "Epoch 9/30\n",
      "60000/60000 [==============================] - 10s 168us/step - loss: 2.2146 - acc: 0.3266 - val_loss: 2.1967 - val_acc: 0.3782\n",
      "Epoch 10/30\n",
      "60000/60000 [==============================] - 10s 168us/step - loss: 2.1826 - acc: 0.3665 - val_loss: 2.1596 - val_acc: 0.3099\n",
      "Epoch 11/30\n",
      "60000/60000 [==============================] - 10s 168us/step - loss: 2.1351 - acc: 0.4092 - val_loss: 2.0979 - val_acc: 0.4733. - ETA: 1s - lo\n",
      "Epoch 12/30\n",
      "60000/60000 [==============================] - 10s 167us/step - loss: 2.0609 - acc: 0.4418 - val_loss: 2.0084 - val_acc: 0.4388\n",
      "Epoch 13/30\n",
      "60000/60000 [==============================] - 10s 168us/step - loss: 1.9494 - acc: 0.4746 - val_loss: 1.8719 - val_acc: 0.4599\n",
      "Epoch 14/30\n",
      "60000/60000 [==============================] - 10s 171us/step - loss: 1.7987 - acc: 0.5080 - val_loss: 1.7021 - val_acc: 0.4784\n",
      "Epoch 15/30\n",
      "60000/60000 [==============================] - 10s 169us/step - loss: 1.6258 - acc: 0.5403 - val_loss: 1.5231 - val_acc: 0.5713\n",
      "Epoch 16/30\n",
      "60000/60000 [==============================] - 10s 166us/step - loss: 1.4567 - acc: 0.5717 - val_loss: 1.3618 - val_acc: 0.5918\n",
      "Epoch 17/30\n",
      "60000/60000 [==============================] - 10s 167us/step - loss: 1.3105 - acc: 0.5990 - val_loss: 1.2288 - val_acc: 0.609744 - \n",
      "Epoch 18/30\n",
      "60000/60000 [==============================] - 10s 165us/step - loss: 1.1921 - acc: 0.6243 - val_loss: 1.1233 - val_acc: 0.6566\n",
      "Epoch 19/30\n",
      "60000/60000 [==============================] - 10s 167us/step - loss: 1.0977 - acc: 0.6480 - val_loss: 1.0408 - val_acc: 0.6661\n",
      "Epoch 20/30\n",
      "60000/60000 [==============================] - 10s 169us/step - loss: 1.0223 - acc: 0.6705 - val_loss: 0.9739 - val_acc: 0.7039\n",
      "Epoch 21/30\n",
      "60000/60000 [==============================] - 10s 168us/step - loss: 0.9607 - acc: 0.6900 - val_loss: 0.9170 - val_acc: 0.6954\n",
      "Epoch 22/30\n",
      "60000/60000 [==============================] - 10s 167us/step - loss: 0.9090 - acc: 0.7067 - val_loss: 0.8684 - val_acc: 0.7243\n",
      "Epoch 23/30\n",
      "60000/60000 [==============================] - 10s 169us/step - loss: 0.8648 - acc: 0.7235 - val_loss: 0.8287 - val_acc: 0.7341\n",
      "Epoch 24/30\n",
      "60000/60000 [==============================] - 10s 168us/step - loss: 0.8260 - acc: 0.7395 - val_loss: 0.7915 - val_acc: 0.7510\n",
      "Epoch 25/30\n",
      "60000/60000 [==============================] - 10s 166us/step - loss: 0.7917 - acc: 0.7517 - val_loss: 0.7617 - val_acc: 0.7650\n",
      "Epoch 26/30\n",
      "60000/60000 [==============================] - 10s 166us/step - loss: 0.7603 - acc: 0.7637 - val_loss: 0.7297 - val_acc: 0.7764\n",
      "Epoch 27/30\n",
      "60000/60000 [==============================] - 10s 166us/step - loss: 0.7321 - acc: 0.7747 - val_loss: 0.7025 - val_acc: 0.7867\n",
      "Epoch 28/30\n",
      "60000/60000 [==============================] - 10s 174us/step - loss: 0.7056 - acc: 0.7850 - val_loss: 0.6770 - val_acc: 0.7931\n",
      "Epoch 29/30\n",
      "60000/60000 [==============================] - 10s 170us/step - loss: 0.6808 - acc: 0.7944 - val_loss: 0.6531 - val_acc: 0.8012\n",
      "Epoch 30/30\n",
      "60000/60000 [==============================] - 10s 168us/step - loss: 0.6580 - acc: 0.8019 - val_loss: 0.6314 - val_acc: 0.8121\n"
     ]
    }
   ],
   "source": [
    "# let's perform the learning \n",
    "history = model.fit( x_train, y_train, \n",
    "           batch_size=batch_size,\n",
    "           epochs=epochs, \n",
    "           verbose=1, \n",
    "           validation_data=(x_test, y_test))"
   ]
  },
  {
   "cell_type": "code",
   "execution_count": 64,
   "metadata": {},
   "outputs": [
    {
     "name": "stdout",
     "output_type": "stream",
     "text": [
      "10000/10000 [==============================] - 1s 103us/step\n"
     ]
    }
   ],
   "source": [
    "# Let's evaluate the model \n",
    "score = model.evaluate(x_test, y_test)"
   ]
  },
  {
   "cell_type": "markdown",
   "metadata": {
    "collapsed": true
   },
   "source": [
    "See some great results here: http://rodrigob.github.io/are_we_there_yet/build/classification_datasets_results.html#4d4e495354 "
   ]
  },
  {
   "cell_type": "code",
   "execution_count": 31,
   "metadata": {},
   "outputs": [
    {
     "data": {
      "text/plain": [
       "0.8809"
      ]
     },
     "execution_count": 31,
     "metadata": {},
     "output_type": "execute_result"
    }
   ],
   "source": [
    "score[1]"
   ]
  },
  {
   "cell_type": "code",
   "execution_count": 46,
   "metadata": {},
   "outputs": [
    {
     "data": {
      "text/plain": [
       "0.8961"
      ]
     },
     "execution_count": 46,
     "metadata": {},
     "output_type": "execute_result"
    }
   ],
   "source": [
    "score[1]"
   ]
  },
  {
   "cell_type": "code",
   "execution_count": 65,
   "metadata": {},
   "outputs": [
    {
     "data": {
      "text/plain": [
       "0.8121"
      ]
     },
     "execution_count": 65,
     "metadata": {},
     "output_type": "execute_result"
    }
   ],
   "source": [
    "score[1]"
   ]
  },
  {
   "cell_type": "code",
   "execution_count": null,
   "metadata": {},
   "outputs": [],
   "source": []
  }
 ],
 "metadata": {
  "kernelspec": {
   "display_name": "Python 3",
   "language": "python",
   "name": "python3"
  },
  "language_info": {
   "codemirror_mode": {
    "name": "ipython",
    "version": 3
   },
   "file_extension": ".py",
   "mimetype": "text/x-python",
   "name": "python",
   "nbconvert_exporter": "python",
   "pygments_lexer": "ipython3",
   "version": "3.7.3"
  }
 },
 "nbformat": 4,
 "nbformat_minor": 2
}
